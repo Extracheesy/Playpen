{
 "cells": [
  {
   "cell_type": "markdown",
   "id": "8163280e",
   "metadata": {},
   "source": [
    "# IMPORTS"
   ]
  },
  {
   "cell_type": "code",
   "execution_count": 1,
   "id": "6cd06700",
   "metadata": {},
   "outputs": [],
   "source": [
    "import ccxt\n",
    "import pandas as pd\n",
    "import time\n",
    "from datetime import datetime\n",
    "from config import myconfig\n"
   ]
  },
  {
   "cell_type": "markdown",
   "id": "8a2503c0",
   "metadata": {},
   "source": [
    "# INITIALIZE"
   ]
  },
  {
   "cell_type": "code",
   "execution_count": 3,
   "id": "c7f4b408",
   "metadata": {},
   "outputs": [],
   "source": [
    "exchange = ccxt.wazirx({\n",
    "    \"apiKey\": myconfig.API_KEY,\n",
    "    \"secret\": myconfig.API_SECRET\n",
    "})"
   ]
  },
  {
   "cell_type": "code",
   "execution_count": 4,
   "id": "56e96905",
   "metadata": {},
   "outputs": [
    {
     "name": "stdout",
     "output_type": "stream",
     "text": [
      "No. of market symbols: 543\n",
      "Sample:['BTC/INR', 'XRP/INR', 'ETH/INR', 'TRX/INR', 'EOS/INR']\n"
     ]
    }
   ],
   "source": [
    "markets = exchange.fetchMarkets()\n",
    "market_symbols = [market['symbol'] for market in markets]\n",
    "print(f'No. of market symbols: {len(market_symbols)}')\n",
    "print(f'Sample:{market_symbols[0:5]}')"
   ]
  },
  {
   "cell_type": "markdown",
   "id": "05093ee2",
   "metadata": {},
   "source": [
    "# STEP 1: GET ALL THE CRYPTO COMBINATIONS FOR USDT"
   ]
  },
  {
   "cell_type": "code",
   "execution_count": 20,
   "id": "2ce8ac7c",
   "metadata": {},
   "outputs": [],
   "source": [
    "def get_crypto_combinations(market_symbols, base):\n",
    "    combinations = []\n",
    "    for sym1 in market_symbols:\n",
    "        \n",
    "        sym1_token1 = sym1.split('/')[0]\n",
    "        sym1_token2 = sym1.split('/')[1]\n",
    "        \n",
    "        if (sym1_token2 == base):\n",
    "            for sym2 in market_symbols:\n",
    "                sym2_token1 = sym2.split('/')[0]\n",
    "                sym2_token2 = sym2.split('/')[1]\n",
    "                if (sym1_token1 == sym2_token2):\n",
    "                    for sym3 in market_symbols:\n",
    "                        sym3_token1 = sym3.split('/')[0]\n",
    "                        sym3_token2 = sym3.split('/')[1]\n",
    "                        if((sym2_token1 == sym3_token1) and (sym3_token2 == sym1_token2)):\n",
    "                            combination = {\n",
    "                                'base':sym1_token2,\n",
    "                                'intermediate':sym1_token1,\n",
    "                                'ticker':sym2_token1,\n",
    "                            }\n",
    "                            combinations.append(combination)\n",
    "                \n",
    "\n",
    "    return combinations\n",
    "        \n",
    "wx_combinations_usdt = get_crypto_combinations(market_symbols,'USDT')\n"
   ]
  },
  {
   "cell_type": "code",
   "execution_count": 21,
   "id": "59458297",
   "metadata": {},
   "outputs": [
    {
     "name": "stdout",
     "output_type": "stream",
     "text": [
      "No. of crypto combinations: 63\n"
     ]
    },
    {
     "data": {
      "text/html": [
       "<div>\n",
       "<style scoped>\n",
       "    .dataframe tbody tr th:only-of-type {\n",
       "        vertical-align: middle;\n",
       "    }\n",
       "\n",
       "    .dataframe tbody tr th {\n",
       "        vertical-align: top;\n",
       "    }\n",
       "\n",
       "    .dataframe thead th {\n",
       "        text-align: right;\n",
       "    }\n",
       "</style>\n",
       "<table border=\"1\" class=\"dataframe\">\n",
       "  <thead>\n",
       "    <tr style=\"text-align: right;\">\n",
       "      <th></th>\n",
       "      <th>base</th>\n",
       "      <th>intermediate</th>\n",
       "      <th>ticker</th>\n",
       "    </tr>\n",
       "  </thead>\n",
       "  <tbody>\n",
       "    <tr>\n",
       "      <th>0</th>\n",
       "      <td>USDT</td>\n",
       "      <td>BTC</td>\n",
       "      <td>XRP</td>\n",
       "    </tr>\n",
       "    <tr>\n",
       "      <th>1</th>\n",
       "      <td>USDT</td>\n",
       "      <td>BTC</td>\n",
       "      <td>TRX</td>\n",
       "    </tr>\n",
       "    <tr>\n",
       "      <th>2</th>\n",
       "      <td>USDT</td>\n",
       "      <td>BTC</td>\n",
       "      <td>ETH</td>\n",
       "    </tr>\n",
       "    <tr>\n",
       "      <th>3</th>\n",
       "      <td>USDT</td>\n",
       "      <td>BTC</td>\n",
       "      <td>NCASH</td>\n",
       "    </tr>\n",
       "    <tr>\n",
       "      <th>4</th>\n",
       "      <td>USDT</td>\n",
       "      <td>BTC</td>\n",
       "      <td>ZIL</td>\n",
       "    </tr>\n",
       "  </tbody>\n",
       "</table>\n",
       "</div>"
      ],
      "text/plain": [
       "   base intermediate ticker\n",
       "0  USDT          BTC    XRP\n",
       "1  USDT          BTC    TRX\n",
       "2  USDT          BTC    ETH\n",
       "3  USDT          BTC  NCASH\n",
       "4  USDT          BTC    ZIL"
      ]
     },
     "execution_count": 21,
     "metadata": {},
     "output_type": "execute_result"
    }
   ],
   "source": [
    "print(f'No. of crypto combinations: {len(wx_combinations_usdt)}')\n",
    "\n",
    "cominations_df = pd.DataFrame(wx_combinations_usdt)\n",
    "cominations_df.head()"
   ]
  },
  {
   "cell_type": "markdown",
   "id": "0af31255",
   "metadata": {},
   "source": [
    "# STEP 2: PERFORM TRIANGULAR ARBITRAGE"
   ]
  },
  {
   "cell_type": "markdown",
   "id": "cc826251",
   "metadata": {},
   "source": [
    "## Utility method to fetch the current ticker price"
   ]
  },
  {
   "cell_type": "code",
   "execution_count": 22,
   "id": "79446407",
   "metadata": {},
   "outputs": [],
   "source": [
    "def fetch_current_ticker_price(ticker):\n",
    "    current_ticker_details = exchange.fetch_ticker(ticker)\n",
    "    ticker_price = current_ticker_details['close'] if current_ticker_details is not None else None\n",
    "    return ticker_price"
   ]
  },
  {
   "cell_type": "markdown",
   "id": "f270fc12",
   "metadata": {},
   "source": [
    "## Triangular Arbitrage"
   ]
  },
  {
   "cell_type": "code",
   "execution_count": 37,
   "id": "fb64f406",
   "metadata": {},
   "outputs": [],
   "source": [
    "def check_buy_buy_sell(scrip1, scrip2, scrip3,initial_investment):\n",
    "    \n",
    "    ## SCRIP1\n",
    "    investment_amount1 = initial_investment\n",
    "    current_price1 = fetch_current_ticker_price(scrip1)\n",
    "    final_price = 0\n",
    "    scrip_prices = {}\n",
    "    \n",
    "    if current_price1 is not None:\n",
    "        buy_quantity1 = round(investment_amount1 / current_price1, 8)\n",
    "        time.sleep(1)\n",
    "        ## SCRIP2\n",
    "        investment_amount2 = buy_quantity1     \n",
    "        current_price2 = fetch_current_ticker_price(scrip2)\n",
    "        if current_price2 is not None:\n",
    "            buy_quantity2 = round(investment_amount2 / current_price2, 8)\n",
    "            time.sleep(1)\n",
    "            ## SCRIP3\n",
    "            investment_amount3 = buy_quantity2     \n",
    "            current_price3 = fetch_current_ticker_price(scrip3)\n",
    "            if current_price3 is not None:\n",
    "                sell_quantity3 = buy_quantity2\n",
    "                final_price = round(sell_quantity3 * current_price3,3)\n",
    "                scrip_prices = {scrip1 : current_price1, scrip2 : current_price2, scrip3 : current_price3}\n",
    "                \n",
    "    return final_price, scrip_prices"
   ]
  },
  {
   "cell_type": "code",
   "execution_count": 38,
   "id": "5cced8ba",
   "metadata": {},
   "outputs": [],
   "source": [
    "def check_buy_sell_sell(scrip1, scrip2, scrip3,initial_investment):\n",
    "    ## SCRIP1\n",
    "    investment_amount1 = initial_investment\n",
    "    current_price1 = fetch_current_ticker_price(scrip1)\n",
    "    final_price = 0\n",
    "    scrip_prices = {}\n",
    "    if current_price1 is not None:\n",
    "        buy_quantity1 = round(investment_amount1 / current_price1, 8)\n",
    "        time.sleep(1)\n",
    "        ## SCRIP2\n",
    "        investment_amount2 = buy_quantity1     \n",
    "        current_price2 = fetch_current_ticker_price(scrip2)\n",
    "        if current_price2 is not None:\n",
    "            sell_quantity2 = buy_quantity1\n",
    "            sell_price2 = round(sell_quantity2 * current_price2,8)\n",
    "            time.sleep(1)\n",
    "            ## SCRIP1\n",
    "            investment_amount3 = sell_price2     \n",
    "            current_price3 = fetch_current_ticker_price(scrip3)\n",
    "            if current_price3 is not None:\n",
    "                sell_quantity3 = sell_price2\n",
    "                final_price = round(sell_quantity3 * current_price3,3)\n",
    "                scrip_prices = {scrip1 : current_price1, scrip2 : current_price2, scrip3 : current_price3}\n",
    "    return final_price,scrip_prices\n"
   ]
  },
  {
   "cell_type": "code",
   "execution_count": 39,
   "id": "411473ed",
   "metadata": {},
   "outputs": [],
   "source": [
    "def check_profit_loss(total_price_after_sell,initial_investment,transaction_brokerage, min_profit):\n",
    "    apprx_brokerage = transaction_brokerage * initial_investment/100 * 3\n",
    "    min_profitable_price = initial_investment + apprx_brokerage + min_profit\n",
    "    profit_loss = round(total_price_after_sell - min_profitable_price,3)\n",
    "    return profit_loss"
   ]
  },
  {
   "cell_type": "code",
   "execution_count": null,
   "id": "61bff981",
   "metadata": {},
   "outputs": [],
   "source": []
  },
  {
   "cell_type": "markdown",
   "id": "1c29dfc6",
   "metadata": {},
   "source": [
    "# STEP 3: PLACE THE TRADE ORDERS"
   ]
  },
  {
   "cell_type": "code",
   "execution_count": 40,
   "id": "b9e0009b",
   "metadata": {},
   "outputs": [],
   "source": [
    "def place_buy_order(scrip, quantity, limit):\n",
    "    order = exchange.create_limit_buy_order(scrip, quantity, limit)\n",
    "    return order\n",
    "\n",
    "def place_sell_order(scrip, quantity, limit):\n",
    "    order = exchange.create_limit_sell_order(scrip, quantity, limit)\n",
    "    return order \n",
    "\n",
    "def place_trade_orders(type, scrip1, scrip2, scrip3, initial_amount, scrip_prices):\n",
    "    final_amount = 0.0\n",
    "    if type == 'BUY_BUY_SELL':\n",
    "        s1_quantity = initial_amount/scrip_prices[scrip1]\n",
    "        place_buy_order(scrip1, s1_quantity, scrip_prices[scrip1])\n",
    "        \n",
    "        s2_quantity = s1_quantity/scrip_prices[scrip2]\n",
    "        place_buy_order(scrip2, s2_quantity, scrip_prices[scrip2])\n",
    "        \n",
    "        s3_quantity = s2_quantity\n",
    "        place_sell_order(scrip3, s3_quantity, scrip_prices[scrip3])\n",
    "        \n",
    "    elif type == 'BUY_SELL_SELL':\n",
    "        s1_quantity = initial_amount/scrip_prices[scrip1]\n",
    "        place_buy_order(scrip1, s1_quantity, scrip_prices[scrip1])\n",
    "        \n",
    "        s2_quantity = s1_quantity\n",
    "        place_sell_order(scrip2, s2_quantity, scrip_prices[scrip2])\n",
    "        \n",
    "        s3_quantity = s2_quantity * scrip_prices[scrip2]\n",
    "        place_sell_order(scrip3, s3_quantity, scrip_prices[scrip3])\n",
    "        \n",
    "        \n",
    "    return final_amount"
   ]
  },
  {
   "cell_type": "markdown",
   "id": "ad0ce6f0",
   "metadata": {},
   "source": [
    "Sample order from exchange immediately after execution:   \n",
    "{'info': {'id': '2490462375', 'symbol': 'btcusdt', 'type': 'limit', 'side': 'buy', 'status': 'wait', 'price': '43201.0', 'origQty': '0.002314', 'executedQty': '0.0', 'createdTime': '1646302254000', 'updatedTime': '1646302254000'}, 'id': '2490462375', 'clientOrderId': None, 'timestamp': 1646302254000, 'datetime': '2022-03-03T10:10:54.000Z', 'lastTradeTimestamp': 1646302254000, 'status': 'open', 'symbol': 'BTC/USDT', 'type': 'limit', 'timeInForce': None, 'postOnly': None, 'side': 'buy', 'price': 43201.0, 'amount': None, 'filled': 0.0, 'remaining': None, 'cost': 0.0, 'fee': None, 'average': None, 'trades': [], 'fees': []}"
   ]
  },
  {
   "cell_type": "code",
   "execution_count": null,
   "id": "8558a7d6",
   "metadata": {},
   "outputs": [],
   "source": []
  },
  {
   "cell_type": "markdown",
   "id": "1941b358",
   "metadata": {},
   "source": [
    "# STEP 4: WRAPPING IT TOGETHER"
   ]
  },
  {
   "cell_type": "code",
   "execution_count": 41,
   "id": "ace320e7",
   "metadata": {},
   "outputs": [],
   "source": [
    "def perform_triangular_arbitrage(scrip1, scrip2, scrip3, arbitrage_type,initial_investment, \n",
    "                               transaction_brokerage, min_profit):\n",
    "    final_price = 0.0\n",
    "    if(arbitrage_type == 'BUY_BUY_SELL'):\n",
    "        # Check this combination for triangular arbitrage: scrip1 - BUY, scrip2 - BUY, scrip3 - SELL\n",
    "        final_price, scrip_prices = check_buy_buy_sell(scrip1, scrip2, scrip3,initial_investment)\n",
    "        \n",
    "    elif(arbitrage_type == 'BUY_SELL_SELL'):\n",
    "        # Check this combination for triangular arbitrage: scrip1 - BUY, scrip2 - SELL, scrip3 - SELL\n",
    "        final_price, scrip_prices = check_buy_sell_sell(scrip1, scrip2, scrip3,initial_investment)\n",
    "        \n",
    "    profit_loss = check_profit_loss(final_price,initial_investment, transaction_brokerage, min_profit)\n",
    "\n",
    "    if profit_loss>0:\n",
    "        print(f\"PROFIT-{datetime.now().strftime('%H:%M:%S')}:\"\\\n",
    "              f\"{arbitrage_type}, {scrip1},{scrip2},{scrip3}, Profit/Loss: {round(final_price-initial_investment,3)} \")\n",
    "        #place_trade_orders(arbitrage_type, scrip1, scrip2, scrip3, initial_investment, scrip_prices)\n",
    "\n"
   ]
  },
  {
   "cell_type": "code",
   "execution_count": 43,
   "id": "a9646500",
   "metadata": {},
   "outputs": [
    {
     "name": "stdout",
     "output_type": "stream",
     "text": [
      "PROFIT-16:57:12:BUY_SELL_SELL, TRX/USDT,TRX/BTC,BTC/USDT, Profit/Loss: 2.343 \n",
      "PROFIT-16:57:29:BUY_SELL_SELL, ZIL/USDT,ZIL/BTC,BTC/USDT, Profit/Loss: 3.003 \n",
      "PROFIT-16:57:38:BUY_BUY_SELL, BTC/USDT,LTC/BTC,LTC/USDT, Profit/Loss: 1.255 \n",
      "PROFIT-16:57:45:BUY_BUY_SELL, BTC/USDT,QKC/BTC,QKC/USDT, Profit/Loss: 2.18 \n",
      "PROFIT-16:57:58:BUY_SELL_SELL, DASH/USDT,DASH/BTC,BTC/USDT, Profit/Loss: 1.419 \n",
      "PROFIT-16:58:12:BUY_SELL_SELL, IOST/USDT,IOST/BTC,BTC/USDT, Profit/Loss: 3.897 \n",
      "PROFIT-16:58:15:BUY_BUY_SELL, BTC/USDT,NULS/BTC,NULS/USDT, Profit/Loss: 3.529 \n",
      "PROFIT-16:58:21:BUY_BUY_SELL, BTC/USDT,OMG/BTC,OMG/USDT, Profit/Loss: 3.601 \n",
      "PROFIT-16:58:34:BUY_SELL_SELL, REQ/USDT,REQ/BTC,BTC/USDT, Profit/Loss: 1.774 \n",
      "PROFIT-16:58:50:BUY_BUY_SELL, BTC/USDT,THETA/BTC,THETA/USDT, Profit/Loss: 3.843 \n",
      "PROFIT-16:59:00:BUY_SELL_SELL, ZRX/USDT,ZRX/BTC,BTC/USDT, Profit/Loss: 6.252 \n",
      "PROFIT-16:59:09:BUY_SELL_SELL, EOS/USDT,EOS/BTC,BTC/USDT, Profit/Loss: 9.736 \n",
      "PROFIT-16:59:16:BUY_SELL_SELL, ICX/USDT,ICX/BTC,BTC/USDT, Profit/Loss: 3.957 \n",
      "PROFIT-16:59:49:BUY_SELL_SELL, FET/USDT,FET/BTC,BTC/USDT, Profit/Loss: 2.235 \n",
      "PROFIT-16:59:52:BUY_BUY_SELL, BTC/USDT,CELR/BTC,CELR/USDT, Profit/Loss: 1.839 \n",
      "PROFIT-17:00:08:BUY_SELL_SELL, ADA/USDT,ADA/BTC,BTC/USDT, Profit/Loss: 2.147 \n",
      "PROFIT-17:00:29:BUY_SELL_SELL, ATOM/USDT,ATOM/BTC,BTC/USDT, Profit/Loss: 1.581 \n",
      "PROFIT-17:01:19:BUY_SELL_SELL, YFI/USDT,YFI/WRX,WRX/USDT, Profit/Loss: 3.609 \n",
      "PROFIT-17:01:38:BUY_SELL_SELL, EOS/USDT,EOS/WRX,WRX/USDT, Profit/Loss: 3.396 \n",
      "PROFIT-17:01:45:BUY_SELL_SELL, LTC/USDT,LTC/WRX,WRX/USDT, Profit/Loss: 3.153 \n",
      "PROFIT-17:01:58:BUY_SELL_SELL, ENJ/USDT,ENJ/WRX,WRX/USDT, Profit/Loss: 1.667 \n",
      "PROFIT-17:02:11:BUY_SELL_SELL, MATIC/USDT,MATIC/WRX,WRX/USDT, Profit/Loss: 1.115 \n",
      "PROFIT-17:02:18:BUY_SELL_SELL, ADA/USDT,ADA/WRX,WRX/USDT, Profit/Loss: 1.928 \n",
      "PROFIT-17:02:25:BUY_SELL_SELL, BAT/USDT,BAT/WRX,WRX/USDT, Profit/Loss: 1.921 \n",
      "PROFIT-17:02:38:BUY_SELL_SELL, 1INCH/USDT,1INCH/WRX,WRX/USDT, Profit/Loss: 2.819 \n",
      "PROFIT-17:02:44:BUY_SELL_SELL, DOCK/USDT,DOCK/WRX,WRX/USDT, Profit/Loss: 10.263 \n",
      "PROFIT-17:02:51:BUY_SELL_SELL, RUNE/USDT,RUNE/WRX,WRX/USDT, Profit/Loss: 1.522 \n",
      "PROFIT-17:03:06:BUY_SELL_SELL, YFII/USDT,YFII/WRX,WRX/USDT, Profit/Loss: 1.627 \n",
      "PROFIT-17:03:12:BUY_SELL_SELL, LUNA/USDT,LUNA/WRX,WRX/USDT, Profit/Loss: 3.163 \n"
     ]
    }
   ],
   "source": [
    "INVESTMENT_AMOUNT_DOLLARS = 100\n",
    "MIN_PROFIT_DOLLARS = 0.5\n",
    "BROKERAGE_PER_TRANSACTION_PERCENT = 0.2\n",
    "#while(1):\n",
    "for combination in wx_combinations_usdt:\n",
    "\n",
    "    base = combination['base']\n",
    "    intermediate = combination['intermediate']\n",
    "    ticker = combination['ticker']\n",
    "\n",
    "\n",
    "    s1 = f'{intermediate}/{base}'    # Eg: BTC/USDT\n",
    "    s2 = f'{ticker}/{intermediate}'  # Eg: ETH/BTC\n",
    "    s3 = f'{ticker}/{base}'          # Eg: ETH/USDT \n",
    "\n",
    "    # Check triangular arbitrage for buy-buy-sell \n",
    "    perform_triangular_arbitrage(s1,s2,s3,'BUY_BUY_SELL',INVESTMENT_AMOUNT_DOLLARS,\n",
    "                              BROKERAGE_PER_TRANSACTION_PERCENT, MIN_PROFIT_DOLLARS)\n",
    "    # Sleep to avoid rate limit on api calls (RateLimitExceeded exception)\n",
    "    time.sleep(1) \n",
    "    # Check triangular arbitrage for buy-sell-sell \n",
    "    perform_triangular_arbitrage(s3,s2,s1,'BUY_SELL_SELL',INVESTMENT_AMOUNT_DOLLARS,\n",
    "                              BROKERAGE_PER_TRANSACTION_PERCENT, MIN_PROFIT_DOLLARS)\n",
    "    time.sleep(1)    \n",
    "         \n",
    "    "
   ]
  },
  {
   "cell_type": "code",
   "execution_count": null,
   "id": "ea26851b",
   "metadata": {},
   "outputs": [],
   "source": []
  },
  {
   "cell_type": "code",
   "execution_count": null,
   "id": "8d0e9970",
   "metadata": {},
   "outputs": [],
   "source": []
  },
  {
   "cell_type": "code",
   "execution_count": null,
   "id": "6c0cff7a",
   "metadata": {},
   "outputs": [],
   "source": []
  }
 ],
 "metadata": {
  "kernelspec": {
   "display_name": "Python 3",
   "language": "python",
   "name": "python3"
  },
  "language_info": {
   "codemirror_mode": {
    "name": "ipython",
    "version": 3
   },
   "file_extension": ".py",
   "mimetype": "text/x-python",
   "name": "python",
   "nbconvert_exporter": "python",
   "pygments_lexer": "ipython3",
   "version": "3.6.12"
  },
  "toc": {
   "base_numbering": 1,
   "nav_menu": {},
   "number_sections": true,
   "sideBar": true,
   "skip_h1_title": false,
   "title_cell": "Table of Contents",
   "title_sidebar": "Contents",
   "toc_cell": false,
   "toc_position": {},
   "toc_section_display": true,
   "toc_window_display": true
  }
 },
 "nbformat": 4,
 "nbformat_minor": 5
}
